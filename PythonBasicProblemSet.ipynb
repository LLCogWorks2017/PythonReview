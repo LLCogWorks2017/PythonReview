{
 "cells": [
  {
   "cell_type": "markdown",
   "metadata": {},
   "source": [
    "# Python Review Code Questions"
   ]
  },
  {
   "cell_type": "markdown",
   "metadata": {},
   "source": [
    "## Numbers\n",
    "                Numbers are the highest degree of knowledge. It is knowledge itself. - Plato"
   ]
  },
  {
   "cell_type": "markdown",
   "metadata": {},
   "source": [
    "#### In 1061 basketball games Lebron James scored 28,787 points. Print how many points he averaged per game"
   ]
  },
  {
   "cell_type": "code",
   "execution_count": 7,
   "metadata": {
    "collapsed": false
   },
   "outputs": [
    {
     "data": {
      "text/plain": [
       "27.13"
      ]
     },
     "execution_count": 7,
     "metadata": {},
     "output_type": "execute_result"
    }
   ],
   "source": [
    "lebron_avg = 28787 / 1061\n",
    "round(lebron_avg, 2)"
   ]
  },
  {
   "cell_type": "markdown",
   "metadata": {},
   "source": [
    "#### In Michael Jordan's first 1061 basketball games he scored 32,061 points. Print how many points he averaged per game"
   ]
  },
  {
   "cell_type": "code",
   "execution_count": 8,
   "metadata": {
    "collapsed": false
   },
   "outputs": [
    {
     "data": {
      "text/plain": [
       "30.22"
      ]
     },
     "execution_count": 8,
     "metadata": {},
     "output_type": "execute_result"
    }
   ],
   "source": [
    "mj_avg = 32061 / 1061\n",
    "round(mj_avg, 2)"
   ]
  },
  {
   "cell_type": "markdown",
   "metadata": {},
   "source": [
    "#### Print the difference between Michael Jordan's average and Lebron James average in their first 1061 basketball games?"
   ]
  },
  {
   "cell_type": "code",
   "execution_count": 9,
   "metadata": {
    "collapsed": false
   },
   "outputs": [
    {
     "data": {
      "text/plain": [
       "3.085768143261074"
      ]
     },
     "execution_count": 9,
     "metadata": {},
     "output_type": "execute_result"
    }
   ],
   "source": [
    "mj_avg - lebron_avg"
   ]
  },
  {
   "cell_type": "markdown",
   "metadata": {},
   "source": [
    "#### Write a for loop that prints out all even numbers between 1 and 11. Use python's modulo (%) operator"
   ]
  },
  {
   "cell_type": "code",
   "execution_count": 12,
   "metadata": {
    "collapsed": false
   },
   "outputs": [
    {
     "name": "stdout",
     "output_type": "stream",
     "text": [
      "1 3 5 7 9 11 "
     ]
    }
   ],
   "source": [
    "for i in range(1,12):\n",
    "    if i % 2 == 1:\n",
    "        print(i, end=\" \")"
   ]
  },
  {
   "cell_type": "markdown",
   "metadata": {},
   "source": [
    "## Strings\n",
    "       False words are not only evil in themselves, but they infect the soul with evil. - socrates"
   ]
  },
  {
   "cell_type": "markdown",
   "metadata": {},
   "source": [
    "#### Assign a string to the variable below and print the variable."
   ]
  },
  {
   "cell_type": "code",
   "execution_count": 13,
   "metadata": {
    "collapsed": false
   },
   "outputs": [
    {
     "name": "stdout",
     "output_type": "stream",
     "text": [
      "Simple Man\n"
     ]
    }
   ],
   "source": [
    "fav_song_title = \"Simple Man\"\n",
    "print(fav_song_title)"
   ]
  },
  {
   "cell_type": "markdown",
   "metadata": {},
   "source": [
    "#### Use a Python special character to print out two lines from your favorite song\n",
    "i.e)           \n",
    "Just a small town girl                                              \n",
    "living in a lonely world"
   ]
  },
  {
   "cell_type": "code",
   "execution_count": 14,
   "metadata": {
    "collapsed": false
   },
   "outputs": [
    {
     "name": "stdout",
     "output_type": "stream",
     "text": [
      "Mama told me when I was young \n",
      "Come sit beside me, my only son\n"
     ]
    }
   ],
   "source": [
    "print(\"Mama told me when I was young \\nCome sit beside me, my only son\")"
   ]
  },
  {
   "cell_type": "markdown",
   "metadata": {},
   "source": [
    "#### Concatenate the two variables below and assign to a new variable"
   ]
  },
  {
   "cell_type": "code",
   "execution_count": 15,
   "metadata": {
    "collapsed": true
   },
   "outputs": [],
   "source": [
    "line_1 = 'say what you '\n",
    "line_2 = 'need to say'\n",
    "line = line_1 + line_2"
   ]
  },
  {
   "cell_type": "markdown",
   "metadata": {},
   "source": [
    "#### Print your new variable 8 times using the * operator. Each time the string should be printed on a new line"
   ]
  },
  {
   "cell_type": "code",
   "execution_count": 20,
   "metadata": {
    "collapsed": false
   },
   "outputs": [
    {
     "name": "stdout",
     "output_type": "stream",
     "text": [
      "say what you need to say\n",
      "say what you need to say\n",
      "say what you need to say\n",
      "say what you need to say\n",
      "say what you need to say\n",
      "say what you need to say\n",
      "say what you need to say\n",
      "say what you need to say\n",
      "\n"
     ]
    }
   ],
   "source": [
    "line += \"\\n\"\n",
    "print(line * 8)"
   ]
  },
  {
   "cell_type": "markdown",
   "metadata": {},
   "source": [
    "#### Add and print the two variables below. Hint: use type casting"
   ]
  },
  {
   "cell_type": "code",
   "execution_count": 22,
   "metadata": {
    "collapsed": false
   },
   "outputs": [
    {
     "data": {
      "text/plain": [
       "6"
      ]
     },
     "execution_count": 22,
     "metadata": {},
     "output_type": "execute_result"
    }
   ],
   "source": [
    "num_good_miley_songs = \"4\"\n",
    "num_good_beiber_songs = \"2\"\n",
    "int(num_good_miley_songs) + int(num_good_beiber_songs)"
   ]
  },
  {
   "cell_type": "markdown",
   "metadata": {},
   "source": [
    "## Lists\n",
    "     People who want to appear clever rely on memory. People who want to get things done make lists. "
   ]
  },
  {
   "cell_type": "markdown",
   "metadata": {},
   "source": [
    "####  Create a list with your 5 favorite foods as strings"
   ]
  },
  {
   "cell_type": "code",
   "execution_count": 26,
   "metadata": {
    "collapsed": true
   },
   "outputs": [],
   "source": [
    "fav_food = [\"bacon\", \"jello pretzel salad\", \"steak\", \"pie\", \"salad\"]"
   ]
  },
  {
   "cell_type": "markdown",
   "metadata": {},
   "source": [
    "#### Use indexing to print  your first three items in the list"
   ]
  },
  {
   "cell_type": "code",
   "execution_count": 27,
   "metadata": {
    "collapsed": false
   },
   "outputs": [
    {
     "name": "stdout",
     "output_type": "stream",
     "text": [
      "bacon\n",
      "jello pretzel salad\n",
      "steak\n"
     ]
    }
   ],
   "source": [
    "for i in range(0, 3):\n",
    "    print(fav_food[i])"
   ]
  },
  {
   "cell_type": "markdown",
   "metadata": {},
   "source": [
    "#### Append the string below to your list"
   ]
  },
  {
   "cell_type": "code",
   "execution_count": 28,
   "metadata": {
    "collapsed": true
   },
   "outputs": [],
   "source": [
    "best_food = \"Johnny's Grandma's Spaghetti\"\n",
    "fav_food.append(best_food)\n",
    "# ^ notice the use of single quotes within double quotes"
   ]
  },
  {
   "cell_type": "markdown",
   "metadata": {},
   "source": [
    "#### Concatenate the list below to your list"
   ]
  },
  {
   "cell_type": "code",
   "execution_count": 31,
   "metadata": {
    "collapsed": false
   },
   "outputs": [
    {
     "data": {
      "text/plain": [
       "['bacon',\n",
       " 'jello pretzel salad',\n",
       " 'steak',\n",
       " 'pie',\n",
       " 'salad',\n",
       " \"Johnny's Grandma's Spaghetti\",\n",
       " 'chicken salad',\n",
       " 'lemon meringue pie']"
      ]
     },
     "execution_count": 31,
     "metadata": {},
     "output_type": "execute_result"
    }
   ],
   "source": [
    "other_good_foods = [\"chicken salad\", \"lemon meringue pie\"]\n",
    "fav_food = fav_food + other_good_foods\n",
    "fav_food"
   ]
  },
  {
   "cell_type": "markdown",
   "metadata": {},
   "source": [
    "#### Print the length of your list"
   ]
  },
  {
   "cell_type": "code",
   "execution_count": 33,
   "metadata": {
    "collapsed": false
   },
   "outputs": [
    {
     "data": {
      "text/plain": [
       "8"
      ]
     },
     "execution_count": 33,
     "metadata": {},
     "output_type": "execute_result"
    }
   ],
   "source": [
    "len(fav_food)"
   ]
  },
  {
   "cell_type": "markdown",
   "metadata": {},
   "source": [
    "## Control Flow\n",
    "        Flo(w) from Progressive: Sprinkles are for winners"
   ]
  },
  {
   "cell_type": "markdown",
   "metadata": {},
   "source": [
    "### Assign a number to the variable"
   ]
  },
  {
   "cell_type": "code",
   "execution_count": 39,
   "metadata": {
    "collapsed": false
   },
   "outputs": [],
   "source": [
    "distance_from_boston = 2"
   ]
  },
  {
   "cell_type": "markdown",
   "metadata": {},
   "source": [
    "#### Use control statements to print out 'close' if distance_from_boston is within 50 miles, 'drivable' if distance_from_boston is within 100 miles but greater than 50 miles, and 'far' if distance_from_boston is greater than 100"
   ]
  },
  {
   "cell_type": "code",
   "execution_count": 40,
   "metadata": {
    "collapsed": false
   },
   "outputs": [
    {
     "name": "stdout",
     "output_type": "stream",
     "text": [
      "close\n"
     ]
    }
   ],
   "source": [
    "if distance_from_boston <= 50:\n",
    "    print(\"close\")\n",
    "elif distance_from_boston <= 100:\n",
    "    print(\"driveable\")\n",
    "else:\n",
    "    print(\"far\")"
   ]
  },
  {
   "cell_type": "markdown",
   "metadata": {},
   "source": [
    "## Loop through all integers between 1 and 11 and print even numbers but use a different type of loop then above"
   ]
  },
  {
   "cell_type": "code",
   "execution_count": 43,
   "metadata": {
    "collapsed": false
   },
   "outputs": [
    {
     "name": "stdout",
     "output_type": "stream",
     "text": [
      "1\n",
      "3\n",
      "5\n",
      "7\n",
      "9\n",
      "11\n"
     ]
    }
   ],
   "source": [
    "i = 1\n",
    "while i < 12:\n",
    "    if i % 2 == 1:\n",
    "        print(i)\n",
    "    i += 1"
   ]
  },
  {
   "cell_type": "markdown",
   "metadata": {},
   "source": [
    "## Extra Coding Challenges\n",
    "        There are no traffic jams along the extra mile"
   ]
  },
  {
   "cell_type": "markdown",
   "metadata": {
    "collapsed": true
   },
   "source": [
    "#### Write a function that returns 'fizz' if x if divisible by 3, 'buzz' if x is divisible by 5 'fizzbuzz' if x is divisible by both three and five, and x otherwise"
   ]
  },
  {
   "cell_type": "code",
   "execution_count": 44,
   "metadata": {
    "collapsed": false
   },
   "outputs": [
    {
     "name": "stdout",
     "output_type": "stream",
     "text": [
      "fizz\n",
      "buzz\n",
      "fizzbuzz\n"
     ]
    }
   ],
   "source": [
    "def divisible(x):\n",
    "    if x % 3 == 0 and x % 5 == 0:\n",
    "        return 'fizzbuzz'\n",
    "    elif x % 3 == 0:\n",
    "        return 'fizz'\n",
    "    elif x % 5 == 0:\n",
    "        return 'buzz'\n",
    "    else:\n",
    "        return x\n",
    "print(divisible(9))\n",
    "print(divisible(40))\n",
    "print(divisible(15))"
   ]
  },
  {
   "cell_type": "markdown",
   "metadata": {},
   "source": [
    "#### Write a function that accomplishes the following \n",
    "        \n",
    "        1) Append x to a list\n",
    "        2) If x is even, divide it by 2 and add the resulting number to the list\n",
    "        3) If x is odd, multiply it by 3 and add 1. Add the resulting number to the list\n",
    "        4) Repeat steps 2 and 3 until you reach the number 1\n",
    "        5) Return the list\n",
    "        \n",
    "        HINT: your_list[0] should be x and your_list[-1] should be 1"
   ]
  },
  {
   "cell_type": "code",
   "execution_count": 49,
   "metadata": {
    "collapsed": false
   },
   "outputs": [
    {
     "data": {
      "text/plain": [
       "[6.0, 3.0, 10.0, 5.0, 16.0, 8.0, 4.0, 2.0, 1.0]"
      ]
     },
     "execution_count": 49,
     "metadata": {},
     "output_type": "execute_result"
    }
   ],
   "source": [
    "def collatz(x):\n",
    "    l = []\n",
    "    while x != 1:\n",
    "        if x % 2 == 0: \n",
    "            x = x / 2\n",
    "        elif x % 2 == 1:\n",
    "            x = x * 3 + 1\n",
    "        l.append(x)\n",
    "    return l\n",
    "collatz(12)"
   ]
  },
  {
   "cell_type": "markdown",
   "metadata": {},
   "source": [
    "#### Write a function that, given n, computes the nth fibonacci number (using recursion)"
   ]
  },
  {
   "cell_type": "code",
   "execution_count": 50,
   "metadata": {
    "collapsed": false
   },
   "outputs": [
    {
     "data": {
      "text/plain": [
       "55"
      ]
     },
     "execution_count": 50,
     "metadata": {},
     "output_type": "execute_result"
    }
   ],
   "source": [
    "def fib(n):\n",
    "    if n == 0: return 0\n",
    "    elif n == 1: return 1\n",
    "    else: return fib(n-1)+fib(n-2)\n",
    "fib(10)"
   ]
  },
  {
   "cell_type": "markdown",
   "metadata": {},
   "source": [
    "#### Use slicing to write a function that accepts a list and returns the list reversed"
   ]
  },
  {
   "cell_type": "code",
   "execution_count": 52,
   "metadata": {
    "collapsed": false
   },
   "outputs": [
    {
     "data": {
      "text/plain": [
       "[5, 4, 3, 2, 1]"
      ]
     },
     "execution_count": 52,
     "metadata": {},
     "output_type": "execute_result"
    }
   ],
   "source": [
    "def reverse(l):\n",
    "    return l[::-1]\n",
    "l = [1,2,3,4,5]\n",
    "reverse(l)"
   ]
  },
  {
   "cell_type": "markdown",
   "metadata": {},
   "source": [
    "#### Write a function that tells if a string is a palindrome"
   ]
  },
  {
   "cell_type": "code",
   "execution_count": 58,
   "metadata": {
    "collapsed": false
   },
   "outputs": [
    {
     "data": {
      "text/plain": [
       "True"
      ]
     },
     "execution_count": 58,
     "metadata": {},
     "output_type": "execute_result"
    }
   ],
   "source": [
    "def is_palindrome(string):\n",
    "    return string == reverse(string)\n",
    "is_palindrome(\"radar\")"
   ]
  },
  {
   "cell_type": "markdown",
   "metadata": {},
   "source": [
    "#### Write a function that reverses a string"
   ]
  },
  {
   "cell_type": "code",
   "execution_count": 54,
   "metadata": {
    "collapsed": false
   },
   "outputs": [
    {
     "data": {
      "text/plain": [
       "'edcba'"
      ]
     },
     "execution_count": 54,
     "metadata": {},
     "output_type": "execute_result"
    }
   ],
   "source": [
    "reverse(\"abcde\")"
   ]
  }
 ],
 "metadata": {
  "kernelspec": {
   "display_name": "Python 3",
   "language": "python",
   "name": "python3"
  },
  "language_info": {
   "codemirror_mode": {
    "name": "ipython",
    "version": 3
   },
   "file_extension": ".py",
   "mimetype": "text/x-python",
   "name": "python",
   "nbconvert_exporter": "python",
   "pygments_lexer": "ipython3",
   "version": "3.6.0"
  }
 },
 "nbformat": 4,
 "nbformat_minor": 1
}
